{
 "cells": [
  {
   "cell_type": "code",
   "execution_count": 20,
   "metadata": {},
   "outputs": [],
   "source": [
    "from random import randint\n",
    "import pandas as pd\n",
    "import networkx as nx\n",
    "import numpy as np\n",
    "from density import density_g\n",
    "from similarity import similarity_f\n",
    "import scipy.interpolate as inter\n",
    "from skimage.transform import resize"
   ]
  },
  {
   "cell_type": "code",
   "execution_count": 21,
   "metadata": {},
   "outputs": [],
   "source": [
    "def similarity_f(structure, vertices, hic_map):\n",
    "    '''\n",
    "    :param structure: list of vertices' ids representing generated structure\n",
    "    :param vertices: df with info about vertices\n",
    "    :param hic_map: numpy array\n",
    "    :return: pearson correlation between inversed distance matrix of the structure and hic_map\n",
    "    '''\n",
    "    n = len(structure)\n",
    "    distance_matrix = np.zeros((n, n))\n",
    "\n",
    "    for i in range(n):\n",
    "        for j in range(n):\n",
    "            a = np.array([vertices[vertices['id'] == structure[i]]['x'],\n",
    "                         vertices[vertices['id'] == structure[i]]['y'],\n",
    "                         vertices[vertices['id'] == structure[i]]['z']])\n",
    "            b = np.array([vertices[vertices['id'] == structure[j]]['x'],\n",
    "                         vertices[vertices['id'] == structure[j]]['y'],\n",
    "                         vertices[vertices['id'] == structure[j]]['z']])\n",
    "            distance_matrix[i, j] = np.sqrt(np.sum((a-b)**2))\n",
    "\n",
    "    if distance_matrix.shape[0] < hic_map.shape[0]:\n",
    "        vals = np.reshape(distance_matrix, distance_matrix.size)\n",
    "        pts = np.array([[i, j] for i in range(n) for j in range(n)])\n",
    "        grid_x, grid_y = np.mgrid[0:1:hic_map.shape[0] * 1j, 0:1:hic_map.shape[0] * 1j]\n",
    "        distance_matrix = inter.griddata(pts, vals, (grid_x, grid_y), method='linear')\n",
    "\n",
    "    elif distance_matrix.shape[0] > hic_map.shape[0]:\n",
    "        distance_matrix = resize(distance_matrix, (50, 50), mode='constant')\n",
    "\n",
    "    #distance_matrix = np.linalg.inv(distance_matrix)\n",
    "    pearson = np.corrcoef(distance_matrix, hic_map)[0, 1]\n",
    "    return 1-pearson\n"
   ]
  },
  {
   "cell_type": "code",
   "execution_count": 22,
   "metadata": {},
   "outputs": [],
   "source": [
    "def create_graph(edges, vertices):\n",
    "    '''\n",
    "    :param edges: df with info about edges\n",
    "    :param vertices: df with info about vertices\n",
    "    :return: networkx graph\n",
    "    '''\n",
    "    graph = nx.Graph()\n",
    "    graph.add_nodes_from(vertices['id'].tolist())\n",
    "    graph.add_edges_from([(edges['id1'][i], edges['id2'][i]) for i in range(len(edges))])\n",
    "    return graph"
   ]
  },
  {
   "cell_type": "code",
   "execution_count": 23,
   "metadata": {},
   "outputs": [],
   "source": [
    "def read_files(graph_nr, hic_size):\n",
    "    '''\n",
    "    :param graph_nr: number of graph to load its vertices and edges\n",
    "    :param hic_size: size of hic map to load\n",
    "    :return: df edges, df vertices and numpy array hic_map\n",
    "    '''\n",
    "    edges = pd.read_csv(f'data/WB_mesh/d{graph_nr}_E.csv')\n",
    "    vertices = pd.read_csv(f'data/WB_mesh/d{graph_nr}_V.csv')\n",
    "\n",
    "    if hic_size not in [20, 30, 50, 100, 150, 207]:\n",
    "        hic_size = 50\n",
    "    if hic_size < 100:\n",
    "        hic_size = f'0{hic_size}'\n",
    "    hic_map = np.load(f'data/hic/hic_{hic_size}.npy')\n",
    "\n",
    "    return edges, vertices, hic_map"
   ]
  },
  {
   "cell_type": "code",
   "execution_count": 24,
   "metadata": {},
   "outputs": [],
   "source": [
    "def add_to_first_node(graph,structure):\n",
    "    connected_edges = list(graph.edges(structure[0]))\n",
    "    if (len(connected_edges) == 0):\n",
    "        return add_to_first_node(graph, remove_first_node(structure))\n",
    "\n",
    "    connected_edges_1 = []\n",
    "    for edge in connected_edges:\n",
    "        if edge[1] not in structure:\n",
    "            connected_edges_1.append([edge[1]])\n",
    "    if len(connected_edges_1) == 0:\n",
    "        return add_to_first_node(graph, remove_first_node(structure))\n",
    "    a = randint(0, len(list(connected_edges_1)) - 1)\n",
    "    structure = connected_edges_1[a] + structure\n",
    "    return structure"
   ]
  },
  {
   "cell_type": "code",
   "execution_count": 25,
   "metadata": {},
   "outputs": [],
   "source": [
    "def add_to_last_node(graph,structure):\n",
    "    connected_edges = list(graph.edges(structure[len(structure) - 1]))\n",
    "    if(len(connected_edges)==0):\n",
    "        return add_to_last_node(graph,remove_last_node(structure))\n",
    "\n",
    "    connected_edges_1=[]\n",
    "    for edge in connected_edges:\n",
    "        if edge[1] not in structure:\n",
    "            connected_edges_1.append([edge[1]])\n",
    "    if len(connected_edges_1)==0:\n",
    "       return add_to_last_node(graph, remove_last_node(structure))\n",
    "    a = randint(0, len(list(connected_edges_1)) - 1)\n",
    "    structure = structure+connected_edges_1[a]\n",
    "    return structure"
   ]
  },
  {
   "cell_type": "code",
   "execution_count": 26,
   "metadata": {},
   "outputs": [],
   "source": [
    "def remove_last_node(structure):\n",
    "    structure = structure[1:]\n",
    "    return structure\n",
    "\n",
    "def remove_first_node(structure):\n",
    "    structure=structure[:len(structure) - 1]\n",
    "    return structure\n",
    "\n",
    "def initialize_structure(graph):\n",
    "    a = randint(0, len(graph.edges) - 1)\n",
    "    structure = [list(graph.edges)[a][0], list(graph.edges)[a][1]]\n",
    "    return structure"
   ]
  },
  {
   "cell_type": "code",
   "execution_count": 27,
   "metadata": {},
   "outputs": [],
   "source": [
    "def probability(structure,graph,vertices,hic_map):\n",
    "\n",
    "    structure_new=add_to_last_node(graph,structure)\n",
    "\n",
    "    f_x = similarity_f(structure, vertices, hic_map)\n",
    "    f_y = similarity_f(structure_new, vertices, hic_map)\n",
    "    if (f_y / f_x > np.random.uniform()):\n",
    "        structure = structure_new\n",
    "\n",
    "    structure_new=add_to_first_node(graph,structure)\n",
    "    f_x = similarity_f(structure, vertices, hic_map)\n",
    "    f_y = similarity_f(structure_new, vertices, hic_map)\n",
    "\n",
    "    if (f_y / f_x > np.random.uniform()):\n",
    "        structure = structure_new\n",
    "\n",
    "    return structure\n"
   ]
  },
  {
   "cell_type": "code",
   "execution_count": 28,
   "metadata": {},
   "outputs": [],
   "source": [
    "def metropolis(graph,vertices,hic_map,iter):\n",
    "    structure=initialize_structure(graph)\n",
    "    for i in range(iter):\n",
    "        structure=probability(structure,graph,vertices,hic_map)\n",
    "\n",
    "        if(i%5==0):\n",
    "            print(similarity_f(structure, vertices, hic_map))\n",
    "\n",
    "    return structure"
   ]
  },
  {
   "cell_type": "code",
   "execution_count": 13,
   "metadata": {},
   "outputs": [
    {
     "name": "stdout",
     "output_type": "stream",
     "text": [
      "0.00017879392467090582\n",
      "0.0001787939246707948\n",
      "0.0001787939246703507\n",
      "0.00017879392467046173\n",
      "0.0001787939246703507\n",
      "0.00017879392467090582\n",
      "0.011381574532814853\n",
      "0.016857804789196185\n",
      "0.005764567038080481\n",
      "0.06762315921593531\n",
      "0.2893666650525576\n",
      "0.06010433789305958\n",
      "0.1273391185004763\n",
      "0.17312845115086184\n",
      "0.13390334797915404\n",
      "0.07433247819754019\n",
      "0.052684736934265564\n",
      "0.14410973206035405\n",
      "0.40720724349537696\n",
      "0.08153139255357589\n",
      "0.020171466725243947\n",
      "0.061440637783147345\n"
     ]
    }
   ],
   "source": [
    "edges, vertices, hic_map = read_files(8, 50)\n",
    "g = create_graph(edges, vertices)\n",
    "structure = metropolis(g,vertices,hic_map,100)\n",
    
   ]
  },
  {
   "cell_type": "code",
   "execution_count": 34,
   "metadata": {},
   "outputs": [
    {
     "data": {
      "text/plain": [
       "Text(0, 0.5, 'Korelacja z oryginalną strukturą')"
      ]
     },
     "execution_count": 34,
     "metadata": {},
     "output_type": "execute_result"
    },
    {
     "data": {
      "image/png": "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",
      "text/plain": [
       "<Figure size 640x480 with 1 Axes>"
      ]
     },
     "metadata": {},
     "output_type": "display_data"
    }
   ],
   "source": [
    "import matplotlib.pyplot as plt \n",
    "plt.plot(x,tab)\n",
    "plt.xlabel('Liczba iteracji')\n",
    "plt.ylabel('Korelacja z oryginalną strukturą')"
   ]
  }
 ],
 "metadata": {
  "kernelspec": {
   "display_name": "Python 3",
   "language": "python",
   "name": "python3"
  },
  "language_info": {
   "codemirror_mode": {
    "name": "ipython",
    "version": 3
   },
   "file_extension": ".py",
   "mimetype": "text/x-python",
   "name": "python",
   "nbconvert_exporter": "python",
   "pygments_lexer": "ipython3",
   "version": "3.11.0"
  },
  "orig_nbformat": 4
 },
 "nbformat": 4,
 "nbformat_minor": 2
}
